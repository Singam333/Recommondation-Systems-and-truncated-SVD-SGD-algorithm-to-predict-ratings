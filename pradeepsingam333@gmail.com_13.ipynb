{
 "cells": [
  {
   "cell_type": "code",
   "execution_count": 1,
   "metadata": {},
   "outputs": [
    {
     "data": {
      "text/plain": [
       "(89992, 3)"
      ]
     },
     "execution_count": 1,
     "metadata": {},
     "output_type": "execute_result"
    }
   ],
   "source": [
    "import pandas as pd\n",
    "data = pd.read_csv('ratings_train.csv')\n",
    "data.shape"
   ]
  },
  {
   "cell_type": "code",
   "execution_count": 2,
   "metadata": {},
   "outputs": [],
   "source": [
    "edges = [tuple(x) for x in data.values.tolist()]"
   ]
  },
  {
   "cell_type": "code",
   "execution_count": 3,
   "metadata": {},
   "outputs": [],
   "source": [
    "a=data[\"user_id\"].values\n",
    "b=data[\"item_id\"].values\n",
    "c=data[\"rating\"].values"
   ]
  },
  {
   "cell_type": "code",
   "execution_count": 4,
   "metadata": {},
   "outputs": [],
   "source": [
    "from scipy.sparse import coo_matrix\n",
    "matrix=coo_matrix((c,(a,b)))"
   ]
  },
  {
   "cell_type": "code",
   "execution_count": 5,
   "metadata": {},
   "outputs": [],
   "source": [
    "from sklearn.utils.extmath import randomized_svd\n",
    "\n",
    "U, Sigma, VT = randomized_svd(matrix, \n",
    "                              n_components=3,\n",
    "                              n_iter=5,\n",
    "                              random_state=None)"
   ]
  },
  {
   "cell_type": "code",
   "execution_count": 6,
   "metadata": {},
   "outputs": [
    {
     "name": "stdout",
     "output_type": "stream",
     "text": [
      "3.529480398257623\n"
     ]
    }
   ],
   "source": [
    "total_rating=0\n",
    "for i in (data['rating'].values):\n",
    "    total_rating=total_rating+i\n",
    "mean=total_rating/len(data)\n",
    "print(mean)"
   ]
  },
  {
   "cell_type": "code",
   "execution_count": 7,
   "metadata": {},
   "outputs": [],
   "source": [
    "import numpy as np\n",
    "unique=data[\"user_id\"].unique()\n",
    "bi=np.zeros([len(unique),1])\n",
    "\n",
    "    "
   ]
  },
  {
   "cell_type": "code",
   "execution_count": 8,
   "metadata": {},
   "outputs": [],
   "source": [
    "import numpy as np\n",
    "unique=data[\"item_id\"].unique()\n",
    "cj=np.zeros([len(unique),1])\n",
    "\n",
    "    "
   ]
  },
  {
   "cell_type": "code",
   "execution_count": 9,
   "metadata": {},
   "outputs": [],
   "source": [
    "cj=list(cj)\n",
    "bi=list(bi)\n",
    "U=list(U)\n",
    "VT=list(VT.T)"
   ]
  },
  {
   "cell_type": "code",
   "execution_count": 10,
   "metadata": {},
   "outputs": [],
   "source": [
    "user=[]\n",
    "movie=[]\n",
    "for i in edges:\n",
    "    if i[0] not in user:\n",
    "        user.append(i[0])\n",
    "    if i[1] not in movie:\n",
    "        movie.append(i[1])"
   ]
  },
  {
   "cell_type": "code",
   "execution_count": 84,
   "metadata": {},
   "outputs": [
    {
     "name": "stdout",
     "output_type": "stream",
     "text": [
      "[0.88927167]\n",
      "[0.86295576]\n",
      "[0.8534746]\n",
      "[0.84894512]\n",
      "[0.84641048]\n",
      "[0.84482868]\n",
      "[0.8437581]\n",
      "[0.84298717]\n",
      "[0.84240481]\n",
      "[0.84194826]\n"
     ]
    }
   ],
   "source": [
    "alpha=0.01\n",
    "r=0.01\n",
    "for i in range(10):\n",
    "    mse=[]\n",
    "    for j in edges:\n",
    "        #print(j[0],j[1])\n",
    "        b=bi[user.index(j[0])]\n",
    "        c=cj[movie.index(j[1])]\n",
    "        yij=j[2]\n",
    "        Ui=U[j[0]]\n",
    "        VTj=VT[j[1]]\n",
    "        db=2*alpha*b-2*(yij-mean-c-b-Ui.dot(VTj.T))\n",
    "        dc=2*alpha*c-2*(yij-mean-c-b-Ui.dot(VTj.T))\n",
    "        b=b-r*db\n",
    "        c=c-r*dc \n",
    "        bi[user.index(j[0])]=b\n",
    "        cj[movie.index(j[1])]=c\n",
    "    for k in edges:\n",
    "        b=bi[user.index(k[0])]\n",
    "        c=cj[movie.index(k[1])]\n",
    "        yij=k[2]\n",
    "        Ui=U[k[0]]\n",
    "        VTj=VT[k[1]]\n",
    "        pred=(mean+c+b+Ui.dot(VTj.T))\n",
    "        error=yij-pred\n",
    "        mse.append(error*error)\n",
    "    print(sum(mse)/len(mse))\n",
    "    \n",
    "\n",
    "    \n",
    "\n",
    "        \n",
    "    "
   ]
  },
  {
   "cell_type": "markdown",
   "metadata": {},
   "source": [
    "# Task2"
   ]
  },
  {
   "cell_type": "code",
   "execution_count": 87,
   "metadata": {},
   "outputs": [],
   "source": [
    "data1 = pd.read_csv('user_info.csv.txt')\n"
   ]
  },
  {
   "cell_type": "code",
   "execution_count": 96,
   "metadata": {},
   "outputs": [],
   "source": [
    "data2=(pd.merge(data1, data, on='user_id'))"
   ]
  },
  {
   "cell_type": "code",
   "execution_count": 109,
   "metadata": {},
   "outputs": [],
   "source": [
    "x1=data2.loc[data2['rating']==1]\n",
    "x2=data2.loc[data2['rating']==2]\n",
    "x3=data2.loc[data2['rating']==3]\n",
    "x4=data2.loc[data2['rating']==4]\n",
    "x5=data2.loc[data2['rating']==5]\n"
   ]
  },
  {
   "cell_type": "code",
   "execution_count": 115,
   "metadata": {},
   "outputs": [
    {
     "name": "stdout",
     "output_type": "stream",
     "text": [
      "[[<matplotlib.axes._subplots.AxesSubplot object at 0x000001AA65DE29B0>]] [[<matplotlib.axes._subplots.AxesSubplot object at 0x000001AA65D40E80>]] [[<matplotlib.axes._subplots.AxesSubplot object at 0x000001AA656F6630>]] [[<matplotlib.axes._subplots.AxesSubplot object at 0x000001AA660DC8D0>]] [[<matplotlib.axes._subplots.AxesSubplot object at 0x000001AA62BF7D68>]]\n"
     ]
    },
    {
     "data": {
      "image/png": "[encoded data removed]",
      "text/plain": [
       "<Figure size 432x288 with 1 Axes>"
      ]
     },
     "metadata": {},
     "output_type": "display_data"
    },
    {
     "data": {
      "image/png": "[encoded data removed]",
      "text/plain": [
       "<Figure size 432x288 with 1 Axes>"
      ]
     },
     "metadata": {},
     "output_type": "display_data"
    },
    {
     "data": {
      "image/png": "[encoded data removed]",
      "text/plain": [
       "<Figure size 432x288 with 1 Axes>"
      ]
     },
     "metadata": {},
     "output_type": "display_data"
    },
    {
     "data": {
      "image/png": "[encoded data removed]",
      "text/plain": [
       "<Figure size 432x288 with 1 Axes>"
      ]
     },
     "metadata": {},
     "output_type": "display_data"
    },
    {
     "data": {
      "image/png": "[encoded data removed]",
      "text/plain": [
       "<Figure size 432x288 with 1 Axes>"
      ]
     },
     "metadata": {},
     "output_type": "display_data"
    }
   ],
   "source": [
    "d1=x1.hist(\"is_male\")\n",
    "d2=x2.hist(\"is_male\")\n",
    "d3=x3.hist(\"is_male\")\n",
    "d4=x4.hist(\"is_male\")\n",
    "d5=x5.hist(\"is_male\")\n",
    "print(d1,d2,d3,d4,d5)\n",
    "\n"
   ]
  },
  {
   "cell_type": "markdown",
   "metadata": {},
   "source": [
    "### Observation"
   ]
  },
  {
   "cell_type": "markdown",
   "metadata": {},
   "source": [
    "1) Our dataset has nothing to do with the gender in predicting the ratings for a movie it can be interfered from the above pllotted histograms."
   ]
  }
 ],
 "metadata": {
  "kernelspec": {
   "display_name": "Python 3",
   "language": "python",
   "name": "python3"
  },
  "language_info": {
   "codemirror_mode": {
    "name": "ipython",
    "version": 3
   },
   "file_extension": ".py",
   "mimetype": "text/x-python",
   "name": "python",
   "nbconvert_exporter": "python",
   "pygments_lexer": "ipython3",
   "version": "3.7.3"
  }
 },
 "nbformat": 4,
 "nbformat_minor": 2
}
